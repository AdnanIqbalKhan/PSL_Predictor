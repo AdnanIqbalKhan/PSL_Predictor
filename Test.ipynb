{
 "cells": [
  {
   "cell_type": "code",
   "execution_count": null,
   "metadata": {},
   "outputs": [],
   "source": [
    "import numpy as np\n",
    "import pandas as pd\n",
    "from sklearn.model_selection import train_test_split\n",
    "from sklearn.metrics import accuracy_score\n",
    "from sklearn import svm\n",
    "from sklearn.linear_model import Perceptron\n",
    "from sklearn.neural_network import MLPClassifier\n",
    "from sklearn.preprocessing import LabelEncoder\n",
    "from sklearn.ensemble import RandomForestClassifier\n",
    "from sklearn.model_selection import cross_val_score\n",
    "from sklearn.linear_model import LogisticRegression\n",
    "from sklearn.naive_bayes import GaussianNB\n",
    "from sklearn.naive_bayes import MultinomialNB\n",
    "from sklearn import tree"
   ]
  },
  {
   "cell_type": "code",
   "execution_count": null,
   "metadata": {},
   "outputs": [],
   "source": [
    "data = pd.read_csv('psl_data.csv', header=0, delimiter=',')"
   ]
  },
  {
   "cell_type": "markdown",
   "metadata": {},
   "source": [
    "# data preprocessing"
   ]
  },
  {
   "cell_type": "code",
   "execution_count": null,
   "metadata": {},
   "outputs": [],
   "source": [
    "def process_y(row):\n",
    "    if(row[-1] == 0 or row[-1] == 1):\n",
    "        return row[-1]\n",
    "    if row[-1] == row[0] :\n",
    "        return 0\n",
    "    else:\n",
    "        return 1"
   ]
  },
  {
   "cell_type": "code",
   "execution_count": null,
   "metadata": {},
   "outputs": [],
   "source": [
    "data[\"winner\"] = [process_y(row) for index, row in data.iterrows()]\n",
    "# data.to_csv(\"after.csv\")"
   ]
  },
  {
   "cell_type": "code",
   "execution_count": null,
   "metadata": {},
   "outputs": [],
   "source": [
    "def update_vals(row, data=data):\n",
    "    if row[-1] == 0 :\n",
    "        row[-1] = 1\n",
    "    else:\n",
    "        row[-1] = 0\n",
    "    temp = row[0]\n",
    "    row[0] = row[1]\n",
    "    row[1] = temp\n",
    "    return row    "
   ]
  },
  {
   "cell_type": "code",
   "execution_count": null,
   "metadata": {},
   "outputs": [],
   "source": [
    "data2 = data.copy()\n",
    "data2 = data2.apply(update_vals, axis=1)\n",
    "data2.index = pd.RangeIndex(start=80, stop=160, step=1)"
   ]
  },
  {
   "cell_type": "code",
   "execution_count": null,
   "metadata": {},
   "outputs": [],
   "source": [
    "# frames = [data, data2]\n",
    "# data3 = pd.concat(frames)\n",
    "# data3.reset_index()\n",
    "# data = data3\n",
    "# data.to_csv(\"After_Augumentation.csv\")"
   ]
  },
  {
   "cell_type": "code",
   "execution_count": null,
   "metadata": {},
   "outputs": [],
   "source": [
    "X = data.loc[:, data.columns != 'winner']\n",
    "Y = data[\"winner\"]\n",
    "\n",
    "lb = LabelEncoder()\n",
    "\n",
    "for A in list(X.columns):\n",
    "    X[A] = lb.fit_transform(X[A])\n",
    "\n",
    "Y = lb.fit_transform(Y)\n",
    "\n",
    "print X.shape\n",
    "print Y.shape"
   ]
  },
  {
   "cell_type": "code",
   "execution_count": null,
   "metadata": {},
   "outputs": [],
   "source": [
    "X_train, X_test, Y_train, Y_test = train_test_split(X, Y, test_size=0.2)"
   ]
  },
  {
   "cell_type": "code",
   "execution_count": null,
   "metadata": {},
   "outputs": [],
   "source": [
    "print \"ANN Test accuracy: \", accuracy_score(MLPClassifier(solver='lbfgs',  hidden_layer_sizes=(8, 8))\n",
    "                                                   .fit(X_train, Y_train).predict(X_test) , Y_test)"
   ]
  },
  {
   "cell_type": "code",
   "execution_count": null,
   "metadata": {},
   "outputs": [],
   "source": [
    "print \"SVM Test accuracy: \", accuracy_score(svm.SVC(kernel='linear')\n",
    "                                            .fit(X_train, Y_train).predict(X_test) , Y_test)"
   ]
  },
  {
   "cell_type": "code",
   "execution_count": null,
   "metadata": {},
   "outputs": [],
   "source": [
    "print \"Random Forest Test accuracy: \", accuracy_score(RandomForestClassifier(max_depth=2, random_state=0)\n",
    "                                            .fit(X_train, Y_train).predict(X_test) , Y_test)"
   ]
  },
  {
   "cell_type": "code",
   "execution_count": null,
   "metadata": {},
   "outputs": [],
   "source": [
    "print \"Logistic Regression Test Accuracy: \", accuracy_score(LogisticRegression()\n",
    "                                            .fit(X_train, Y_train).predict(X_test) , Y_test)"
   ]
  },
  {
   "cell_type": "code",
   "execution_count": null,
   "metadata": {},
   "outputs": [],
   "source": [
    "print \"Cross Validation ANN: \", cross_val_score(MLPClassifier(solver='lbfgs',  hidden_layer_sizes=(8, 8)), X, Y, cv=5).mean()"
   ]
  },
  {
   "cell_type": "code",
   "execution_count": null,
   "metadata": {},
   "outputs": [],
   "source": [
    "print \"Cross Validation RandomForest: \", cross_val_score(RandomForestClassifier(max_depth=5, random_state=0), X, Y, cv=5).mean()"
   ]
  },
  {
   "cell_type": "code",
   "execution_count": null,
   "metadata": {},
   "outputs": [],
   "source": [
    "print \"Cross Validation SVM: \", cross_val_score(svm.SVC(), X, Y, cv=5).mean()"
   ]
  },
  {
   "cell_type": "code",
   "execution_count": null,
   "metadata": {},
   "outputs": [],
   "source": [
    "print \"Cross Validation Logistic Regression: \", cross_val_score(LogisticRegression(), X, Y, cv=5).mean()"
   ]
  },
  {
   "cell_type": "code",
   "execution_count": null,
   "metadata": {},
   "outputs": [],
   "source": [
    "print \"Cross Validation Naive Bayes: \", cross_val_score(GaussianNB(), X, Y, cv=5).mean()"
   ]
  },
  {
   "cell_type": "code",
   "execution_count": null,
   "metadata": {},
   "outputs": [],
   "source": [
    "print \"Cross Validation Decision Tree: \", cross_val_score(tree.DecisionTreeClassifier(), X, Y, cv=5).mean()"
   ]
  },
  {
   "cell_type": "code",
   "execution_count": null,
   "metadata": {},
   "outputs": [],
   "source": []
  }
 ],
 "metadata": {
  "kernelspec": {
   "display_name": "Python 2",
   "language": "python",
   "name": "python2"
  },
  "language_info": {
   "codemirror_mode": {
    "name": "ipython",
    "version": 2
   },
   "file_extension": ".py",
   "mimetype": "text/x-python",
   "name": "python",
   "nbconvert_exporter": "python",
   "pygments_lexer": "ipython2",
   "version": "2.7.14"
  }
 },
 "nbformat": 4,
 "nbformat_minor": 2
}
