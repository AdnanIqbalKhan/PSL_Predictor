{
 "cells": [
  {
   "cell_type": "code",
   "execution_count": 87,
   "metadata": {},
   "outputs": [],
   "source": [
    "import numpy as np\n",
    "import pandas as pd\n",
    "from scipy.sparse import csgraph\n",
    "from sklearn.preprocessing import LabelEncoder\n",
    "from sklearn.model_selection import cross_val_score\n",
    "from sklearn.tree import ExtraTreeClassifier\n",
    "from sklearn.model_selection import train_test_split\n",
    "from sklearn.ensemble import RandomForestClassifier, ExtraTreesClassifier, GradientBoostingClassifier"
   ]
  },
  {
   "cell_type": "code",
   "execution_count": 3,
   "metadata": {},
   "outputs": [],
   "source": [
    "def labelencode_dataframe(dataframe_columns, classlist, column_names):\n",
    "    le = LabelEncoder().fit(classlist)\n",
    "    if len(dataframe_columns.shape) == 1:\n",
    "        df_new = pd.DataFrame(le.transform(dataframe_columns), columns=column_names)\n",
    "    else:\n",
    "        df_new = dataframe_columns.apply(le.transform)\n",
    "    return df_new"
   ]
  },
  {
   "cell_type": "code",
   "execution_count": 4,
   "metadata": {},
   "outputs": [],
   "source": [
    "def dataframe_tolist(dataframe):\n",
    "    ret_list = []\n",
    "    headers = list(dataframe)\n",
    "    for header in headers:\n",
    "        ret_list.extend(list(set(dataframe[header])))\n",
    "    return list(set(ret_list))"
   ]
  },
  {
   "cell_type": "code",
   "execution_count": 48,
   "metadata": {},
   "outputs": [],
   "source": [
    "data = pd.read_csv('psl_data_wStats.csv', header=0, delimiter=',')"
   ]
  },
  {
   "cell_type": "code",
   "execution_count": 51,
   "metadata": {},
   "outputs": [],
   "source": [
    "#Separating all features for encoding\n",
    "teams = list(set(sum([list(data[['team1']]), list(data['team2'])], [])))\n",
    "venues = list(set((data['venue'])))\n",
    "toss_decisions = list(set(data['toss_decision']))\n",
    "#encoding.\n",
    "team1_new = labelencode_dataframe(data['team1'], teams, ['team1'])\n",
    "team2_new = labelencode_dataframe(data['team2'], teams, ['team2'])\n",
    "toss_winner_new = labelencode_dataframe(data['toss_winner'], teams, ['toss_winner'])\n",
    "winner_new = labelencode_dataframe(data['winner'], teams, ['winner'])\n",
    "venue_new = labelencode_dataframe(data['venue'], venues, ['venue'])\n",
    "toss_decision_new = labelencode_dataframe(data['toss_decision'], toss_decisions, ['toss_decision'])\n",
    "\n",
    "#New Encoded Data\n",
    "data_new = pd.concat([team1_new, team2_new, data.iloc[:,2:12], venue_new, toss_winner_new, toss_decision_new], axis=1)\n",
    "#Features\n",
    "X = data_new.iloc[:,0:27]\n",
    "#Labels\n",
    "Y = pd.DataFrame(np.where(data['team1']==data['winner'], 1, 0))\n",
    "\n",
    "X_train, X_test, y_train, y_test = train_test_split(X, Y, test_size=0.33, random_state=42)"
   ]
  },
  {
   "cell_type": "code",
   "execution_count": 85,
   "metadata": {},
   "outputs": [
    {
     "name": "stdout",
     "output_type": "stream",
     "text": [
      "0.5222821428571428\n",
      "0.8928571428571429\n",
      "0.17857142857142858\n"
     ]
    }
   ],
   "source": [
    "a = [ExtraTreeClassifier().fit(X_train,y_train).score(X_test,y_test) for i in range(0,10000)]\n",
    "print np.mean(a)\n",
    "print np.max(a)\n",
    "print np.min(a)"
   ]
  },
  {
   "cell_type": "code",
   "execution_count": 91,
   "metadata": {},
   "outputs": [
    {
     "name": "stdout",
     "output_type": "stream",
     "text": [
      "0.5359892857142856\n",
      "0.8214285714285714\n",
      "0.2857142857142857\n"
     ]
    }
   ],
   "source": [
    "a = [ExtraTreesClassifier().fit(X_train,y_train.values.ravel()).score(X_test,y_test) for i in range(0,10000)]\n",
    "print np.mean(a)\n",
    "print np.max(a)\n",
    "print np.min(a)"
   ]
  },
  {
   "cell_type": "code",
   "execution_count": 92,
   "metadata": {},
   "outputs": [
    {
     "name": "stdout",
     "output_type": "stream",
     "text": [
      "0.5401428571428571\n",
      "0.7857142857142857\n",
      "0.2857142857142857\n"
     ]
    }
   ],
   "source": [
    "a = [RandomForestClassifier().fit(X_train,y_train.values.ravel()).score(X_test,y_test) for i in range(0,10000)]\n",
    "print np.mean(a)\n",
    "print np.max(a)\n",
    "print np.min(a)"
   ]
  },
  {
   "cell_type": "code",
   "execution_count": 93,
   "metadata": {},
   "outputs": [
    {
     "name": "stdout",
     "output_type": "stream",
     "text": [
      "0.5377765277777778\n",
      "0.7319444444444445\n",
      "0.30277777777777776\n"
     ]
    }
   ],
   "source": [
    "a = [cross_val_score(ExtraTreeClassifier(), X, Y, cv=5).mean() for i in range(0,10000)]\n",
    "print np.mean(a)\n",
    "print np.max(a)\n",
    "print np.min(a)"
   ]
  },
  {
   "cell_type": "code",
   "execution_count": 53,
   "metadata": {},
   "outputs": [
    {
     "name": "stdout",
     "output_type": "stream",
     "text": [
      "Cross Validation ExtraTreeClassifier:  0.538888888888889 +/- 0.0831711384532215\n"
     ]
    }
   ],
   "source": [
    "cvs = cross_val_score(ExtraTreeClassifier(), X, Y, cv=5)\n",
    "print \"Cross Validation ExtraTreeClassifier: \", cvs.mean(), '+/-', cvs.std()"
   ]
  }
 ],
 "metadata": {
  "kernelspec": {
   "display_name": "Python 3",
   "language": "python",
   "name": "python3"
  },
  "language_info": {
   "codemirror_mode": {
    "name": "ipython",
    "version": 3
   },
   "file_extension": ".py",
   "mimetype": "text/x-python",
   "name": "python",
   "nbconvert_exporter": "python",
   "pygments_lexer": "ipython3",
   "version": "3.6.5"
  }
 },
 "nbformat": 4,
 "nbformat_minor": 2
}
