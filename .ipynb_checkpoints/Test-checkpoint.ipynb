{
 "cells": [
  {
   "cell_type": "code",
   "execution_count": 1,
   "metadata": {},
   "outputs": [],
   "source": [
    "import numpy as np\n",
    "import pandas as pd\n",
    "from sklearn.model_selection import train_test_split\n",
    "from sklearn.metrics import accuracy_score\n",
    "from sklearn import svm\n",
    "from sklearn.linear_model import Perceptron\n",
    "from sklearn.neural_network import MLPClassifier\n",
    "from sklearn.preprocessing import LabelEncoder\n",
    "from sklearn.ensemble import RandomForestClassifier\n",
    "from sklearn.model_selection import cross_val_score\n",
    "from sklearn.linear_model import LogisticRegression\n",
    "from sklearn.naive_bayes import GaussianNB\n",
    "from sklearn.naive_bayes import MultinomialNB\n",
    "from sklearn import tree"
   ]
  },
  {
   "cell_type": "code",
   "execution_count": 2,
   "metadata": {},
   "outputs": [],
   "source": [
    "data = pd.read_csv('psl_data.csv', header=0, delimiter=',')"
   ]
  },
  {
   "cell_type": "markdown",
   "metadata": {},
   "source": [
    "# data preprocessing"
   ]
  },
  {
   "cell_type": "code",
   "execution_count": 3,
   "metadata": {},
   "outputs": [],
   "source": [
    "def process_y(row):\n",
    "    if(row[-1] == 0 or row[-1] == 1):\n",
    "        return row[-1]\n",
    "    if row[-1] == row[0] :\n",
    "        return 0\n",
    "    else:\n",
    "        return 1"
   ]
  },
  {
   "cell_type": "code",
   "execution_count": 4,
   "metadata": {},
   "outputs": [],
   "source": [
    "data[\"winner\"] = [process_y(row) for index, row in data.iterrows()]\n",
    "# data.to_csv(\"after.csv\")"
   ]
  },
  {
   "cell_type": "code",
   "execution_count": 5,
   "metadata": {},
   "outputs": [],
   "source": [
    "def update_vals(row, data=data):\n",
    "    if row[-1] == 0 :\n",
    "        row[-1] = 1\n",
    "    else:\n",
    "        row[-1] = 0\n",
    "    temp = row[0]\n",
    "    row[0] = row[1]\n",
    "    row[1] = temp\n",
    "    return row    "
   ]
  },
  {
   "cell_type": "code",
   "execution_count": 6,
   "metadata": {},
   "outputs": [],
   "source": [
    "data2 = data.copy()\n",
    "data2 = data2.apply(update_vals, axis=1)\n",
    "data2.index = pd.RangeIndex(start=80, stop=160, step=1)"
   ]
  },
  {
   "cell_type": "code",
   "execution_count": 7,
   "metadata": {},
   "outputs": [],
   "source": [
    "# frames = [data, data2]\n",
    "# data3 = pd.concat(frames)\n",
    "# data3.reset_index()\n",
    "# data = data3\n",
    "# data.to_csv(\"After_Augumentation.csv\")"
   ]
  },
  {
   "cell_type": "code",
   "execution_count": 8,
   "metadata": {},
   "outputs": [
    {
     "name": "stdout",
     "output_type": "stream",
     "text": [
      "(80, 5)\n",
      "(80L,)\n"
     ]
    },
    {
     "name": "stderr",
     "output_type": "stream",
     "text": [
      "C:\\Users\\ehsan\\Anaconda2\\lib\\site-packages\\ipykernel_launcher.py:7: SettingWithCopyWarning: \n",
      "A value is trying to be set on a copy of a slice from a DataFrame.\n",
      "Try using .loc[row_indexer,col_indexer] = value instead\n",
      "\n",
      "See the caveats in the documentation: http://pandas.pydata.org/pandas-docs/stable/indexing.html#indexing-view-versus-copy\n",
      "  import sys\n"
     ]
    }
   ],
   "source": [
    "X = data.loc[:, data.columns != 'winner']\n",
    "Y = data[\"winner\"]\n",
    "\n",
    "lb = LabelEncoder()\n",
    "\n",
    "for A in list(X.columns):\n",
    "    X[A] = lb.fit_transform(X[A])\n",
    "\n",
    "Y = lb.fit_transform(Y)\n",
    "\n",
    "print X.shape\n",
    "print Y.shape"
   ]
  },
  {
   "cell_type": "code",
   "execution_count": 9,
   "metadata": {},
   "outputs": [],
   "source": [
    "X_train, X_test, Y_train, Y_test = train_test_split(X, Y, test_size=0.2)"
   ]
  },
  {
   "cell_type": "code",
   "execution_count": 10,
   "metadata": {},
   "outputs": [
    {
     "name": "stdout",
     "output_type": "stream",
     "text": [
      "ANN Test accuracy:  0.5\n"
     ]
    }
   ],
   "source": [
    "print \"ANN Test accuracy: \", accuracy_score(MLPClassifier(solver='lbfgs',  hidden_layer_sizes=(8, 8))\n",
    "                                                   .fit(X_train, Y_train).predict(X_test) , Y_test)"
   ]
  },
  {
   "cell_type": "code",
   "execution_count": 11,
   "metadata": {},
   "outputs": [
    {
     "name": "stdout",
     "output_type": "stream",
     "text": [
      "SVM Test accuracy:  0.5625\n"
     ]
    }
   ],
   "source": [
    "print \"SVM Test accuracy: \", accuracy_score(svm.SVC(kernel='linear')\n",
    "                                            .fit(X_train, Y_train).predict(X_test) , Y_test)"
   ]
  },
  {
   "cell_type": "code",
   "execution_count": 12,
   "metadata": {},
   "outputs": [
    {
     "name": "stdout",
     "output_type": "stream",
     "text": [
      "Random Forest Test accuracy:  0.5\n"
     ]
    }
   ],
   "source": [
    "print \"Random Forest Test accuracy: \", accuracy_score(RandomForestClassifier(max_depth=2, random_state=0)\n",
    "                                            .fit(X_train, Y_train).predict(X_test) , Y_test)"
   ]
  },
  {
   "cell_type": "code",
   "execution_count": 13,
   "metadata": {},
   "outputs": [
    {
     "name": "stdout",
     "output_type": "stream",
     "text": [
      "Logistic Regression Test Accuracy:  0.75\n"
     ]
    }
   ],
   "source": [
    "print \"Logistic Regression Test Accuracy: \", accuracy_score(LogisticRegression()\n",
    "                                            .fit(X_train, Y_train).predict(X_test) , Y_test)"
   ]
  },
  {
   "cell_type": "code",
   "execution_count": 14,
   "metadata": {},
   "outputs": [
    {
     "name": "stdout",
     "output_type": "stream",
     "text": [
      "Cross Validation ANN:  0.5791176470588235\n"
     ]
    }
   ],
   "source": [
    "print \"Cross Validation ANN: \", cross_val_score(MLPClassifier(solver='lbfgs',  hidden_layer_sizes=(8, 8)), X, Y, cv=5).mean()"
   ]
  },
  {
   "cell_type": "code",
   "execution_count": 15,
   "metadata": {},
   "outputs": [
    {
     "name": "stdout",
     "output_type": "stream",
     "text": [
      "Cross Validation RandomForest:  0.5797549019607844\n"
     ]
    }
   ],
   "source": [
    "print \"Cross Validation RandomForest: \", cross_val_score(RandomForestClassifier(max_depth=5, random_state=0), X, Y, cv=5).mean()"
   ]
  },
  {
   "cell_type": "code",
   "execution_count": 16,
   "metadata": {},
   "outputs": [
    {
     "name": "stdout",
     "output_type": "stream",
     "text": [
      "Cross Validation SVM:  0.5907843137254902\n"
     ]
    }
   ],
   "source": [
    "print \"Cross Validation SVM: \", cross_val_score(svm.SVC(), X, Y, cv=5).mean()"
   ]
  },
  {
   "cell_type": "code",
   "execution_count": 17,
   "metadata": {},
   "outputs": [
    {
     "name": "stdout",
     "output_type": "stream",
     "text": [
      "Cross Validation Logistic Regression:  0.5797549019607844\n"
     ]
    }
   ],
   "source": [
    "print \"Cross Validation Logistic Regression: \", cross_val_score(LogisticRegression(), X, Y, cv=5).mean()"
   ]
  },
  {
   "cell_type": "code",
   "execution_count": 18,
   "metadata": {},
   "outputs": [
    {
     "name": "stdout",
     "output_type": "stream",
     "text": [
      "Cross Validation Naive Bayes:  0.5648529411764706\n"
     ]
    }
   ],
   "source": [
    "print \"Cross Validation Naive Bayes: \", cross_val_score(GaussianNB(), X, Y, cv=5).mean()"
   ]
  },
  {
   "cell_type": "code",
   "execution_count": 19,
   "metadata": {},
   "outputs": [
    {
     "name": "stdout",
     "output_type": "stream",
     "text": [
      "Cross Validation Decision Tree:  0.5532843137254903\n"
     ]
    }
   ],
   "source": [
    "print \"Cross Validation Decision Tree: \", cross_val_score(tree.DecisionTreeClassifier(), X, Y, cv=5).mean()"
   ]
  }
 ],
 "metadata": {
  "kernelspec": {
   "display_name": "Python 2",
   "language": "python",
   "name": "python2"
  },
  "language_info": {
   "codemirror_mode": {
    "name": "ipython",
    "version": 2
   },
   "file_extension": ".py",
   "mimetype": "text/x-python",
   "name": "python",
   "nbconvert_exporter": "python",
   "pygments_lexer": "ipython2",
   "version": "2.7.14"
  }
 },
 "nbformat": 4,
 "nbformat_minor": 2
}
