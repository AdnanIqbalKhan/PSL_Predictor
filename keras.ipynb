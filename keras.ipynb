{
 "cells": [
  {
   "cell_type": "code",
   "execution_count": 68,
   "metadata": {},
   "outputs": [],
   "source": [
    "from keras.models import Sequential\n",
    "from keras.layers import Dense, Embedding, LSTM, RNN\n",
    "import keras\n",
    "import numpy as np\n",
    "import pandas as pd\n",
    "from scipy.sparse import csgraph\n",
    "from sklearn.preprocessing import LabelEncoder\n",
    "from sklearn.model_selection import train_test_split"
   ]
  },
  {
   "cell_type": "code",
   "execution_count": 2,
   "metadata": {},
   "outputs": [],
   "source": [
    "def labelencode_dataframe(dataframe_columns, classlist, column_names):\n",
    "    le = LabelEncoder().fit(classlist)\n",
    "    if len(dataframe_columns.shape) == 1:\n",
    "        df_new = pd.DataFrame(le.transform(dataframe_columns), columns=column_names)\n",
    "    else:\n",
    "        df_new = dataframe_columns.apply(le.transform)\n",
    "    return df_new"
   ]
  },
  {
   "cell_type": "code",
   "execution_count": 3,
   "metadata": {},
   "outputs": [],
   "source": [
    "def dataframe_tolist(dataframe):\n",
    "    ret_list = []\n",
    "    headers = list(dataframe)\n",
    "    for header in headers:\n",
    "        ret_list.extend(list(set(dataframe[header])))\n",
    "    return list(set(ret_list))"
   ]
  },
  {
   "cell_type": "code",
   "execution_count": 4,
   "metadata": {},
   "outputs": [],
   "source": [
    "data = pd.read_csv('psl_data_wStats.csv', header=0, delimiter=',')"
   ]
  },
  {
   "cell_type": "code",
   "execution_count": 87,
   "metadata": {},
   "outputs": [],
   "source": [
    "#Separating all features for encoding\n",
    "teams = list(set(sum([list(data[['team1']]), list(data['team2'])], [])))\n",
    "venues = list(set((data['venue'])))\n",
    "toss_decisions = list(set(data['toss_decision']))\n",
    "#encoding.\n",
    "team1_new = labelencode_dataframe(data['team1'], teams, ['team1'])\n",
    "team2_new = labelencode_dataframe(data['team2'], teams, ['team2'])\n",
    "toss_winner_new = labelencode_dataframe(data['toss_winner'], teams, ['toss_winner'])\n",
    "winner_new = labelencode_dataframe(data['winner'], teams, ['winner'])\n",
    "venue_new = labelencode_dataframe(data['venue'], venues, ['venue'])\n",
    "toss_decision_new = labelencode_dataframe(data['toss_decision'], toss_decisions, ['toss_decision'])\n",
    "\n",
    "#New Encoded Data\n",
    "data_new = pd.concat([team1_new, team2_new, data.iloc[:,2:12], venue_new, toss_winner_new, toss_decision_new], axis=1)\n",
    "#Features\n",
    "X = data_new.iloc[:,0:27]\n",
    "#Labels\n",
    "Y = pd.DataFrame(np.where(data['team1']==data['winner'], 1, 0))\n",
    "\n",
    "# X_train, X_test, y_train, y_test = train_test_split(X, Y, test_size=0.33, random_state=42)"
   ]
  },
  {
   "cell_type": "code",
   "execution_count": 88,
   "metadata": {},
   "outputs": [
    {
     "name": "stderr",
     "output_type": "stream",
     "text": [
      "D:\\Installations\\Anaconda2\\envs\\py36\\lib\\site-packages\\ipykernel_launcher.py:3: UserWarning: The `dropout` argument is no longer support in `Embedding`. You can apply a `keras.layers.SpatialDropout1D` layer right after the `Embedding` layer to get the same behavior.\n",
      "  This is separate from the ipykernel package so we can avoid doing imports until\n",
      "D:\\Installations\\Anaconda2\\envs\\py36\\lib\\site-packages\\ipykernel_launcher.py:4: UserWarning: Update your `LSTM` call to the Keras 2 API: `LSTM(2500, dropout=0.2, recurrent_dropout=0.02)`\n",
      "  after removing the cwd from sys.path.\n"
     ]
    },
    {
     "name": "stdout",
     "output_type": "stream",
     "text": [
      "_________________________________________________________________\n",
      "Layer (type)                 Output Shape              Param #   \n",
      "=================================================================\n",
      "embedding_14 (Embedding)     (None, 15, 128)           320000    \n",
      "_________________________________________________________________\n",
      "lstm_14 (LSTM)               (None, 2500)              26290000  \n",
      "_________________________________________________________________\n",
      "dense_49 (Dense)             (None, 1)                 2501      \n",
      "=================================================================\n",
      "Total params: 26,612,501\n",
      "Trainable params: 26,612,501\n",
      "Non-trainable params: 0\n",
      "_________________________________________________________________\n",
      "None\n"
     ]
    }
   ],
   "source": [
    "model = Sequential()\n",
    "\n",
    "model.add(Embedding(2500, 128, input_length = 15, dropout = 0.2))\n",
    "model.add(LSTM(2500, dropout_U = 0.02, dropout_W = 0.2))\n",
    "model.add(Dense(1,activation='softmax'))\n",
    "\n",
    "model.compile(loss = 'binary_crossentropy', optimizer='adam',metrics = ['accuracy'])\n",
    "print(model.summary())"
   ]
  },
  {
   "cell_type": "code",
   "execution_count": 89,
   "metadata": {},
   "outputs": [
    {
     "name": "stdout",
     "output_type": "stream",
     "text": [
      "Epoch 1/5\n",
      "82/82 [==============================] - 27s 327ms/step - loss: 8.9433 - acc: 0.4390\n",
      "Epoch 2/5\n",
      "82/82 [==============================] - 9s 111ms/step - loss: 8.9433 - acc: 0.4390\n",
      "Epoch 3/5\n",
      "82/82 [==============================] - 9s 112ms/step - loss: 8.9433 - acc: 0.4390\n",
      "Epoch 4/5\n",
      "82/82 [==============================] - 9s 112ms/step - loss: 8.9433 - acc: 0.4390\n",
      "Epoch 5/5\n",
      "82/82 [==============================] - 9s 115ms/step - loss: 8.9433 - acc: 0.4390\n"
     ]
    },
    {
     "data": {
      "text/plain": [
       "<keras.callbacks.History at 0x1c6260aea20>"
      ]
     },
     "execution_count": 89,
     "metadata": {},
     "output_type": "execute_result"
    }
   ],
   "source": [
    "model.fit(X, Y, epochs=5)"
   ]
  },
  {
   "cell_type": "code",
   "execution_count": 90,
   "metadata": {},
   "outputs": [
    {
     "name": "stdout",
     "output_type": "stream",
     "text": [
      "82/82 [==============================] - 4s 45ms/step\n"
     ]
    }
   ],
   "source": [
    "score, acc = model.evaluate(X, Y)"
   ]
  },
  {
   "cell_type": "code",
   "execution_count": 94,
   "metadata": {},
   "outputs": [
    {
     "name": "stdout",
     "output_type": "stream",
     "text": [
      "Accuracy: 43.90\n"
     ]
    }
   ],
   "source": [
    "print('Accuracy: %.2f' % (acc * 100))"
   ]
  }
 ],
 "metadata": {
  "kernelspec": {
   "display_name": "Python 3",
   "language": "python",
   "name": "python3"
  },
  "language_info": {
   "codemirror_mode": {
    "name": "ipython",
    "version": 3
   },
   "file_extension": ".py",
   "mimetype": "text/x-python",
   "name": "python",
   "nbconvert_exporter": "python",
   "pygments_lexer": "ipython3",
   "version": "3.6.5"
  }
 },
 "nbformat": 4,
 "nbformat_minor": 2
}
