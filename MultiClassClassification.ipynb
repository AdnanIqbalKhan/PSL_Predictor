{
 "cells": [
  {
   "cell_type": "code",
   "execution_count": 1,
   "metadata": {},
   "outputs": [],
   "source": [
    "import numpy as np\n",
    "import pandas as pd\n",
    "from scipy.sparse import csgraph\n",
    "from sklearn.preprocessing import LabelEncoder\n",
    "from sklearn.model_selection import cross_val_score\n",
    "from sklearn.linear_model import LogisticRegression, LogisticRegressionCV, RidgeClassifier, RidgeClassifierCV,\\\n",
    "SGDClassifier, Perceptron, PassiveAggressiveClassifier\n",
    "from sklearn.ensemble import RandomForestClassifier, ExtraTreesClassifier, GradientBoostingClassifier\n",
    "from sklearn.naive_bayes import BernoulliNB\n",
    "from sklearn.tree import DecisionTreeClassifier, ExtraTreeClassifier\n",
    "from sklearn.neighbors import KNeighborsClassifier, NearestCentroid, RadiusNeighborsClassifier\n",
    "from sklearn.semi_supervised import LabelPropagation, LabelSpreading\n",
    "from sklearn.discriminant_analysis import LinearDiscriminantAnalysis, QuadraticDiscriminantAnalysis\n",
    "from sklearn.svm import LinearSVC, NuSVC, SVC\n",
    "from sklearn.neural_network import MLPClassifier\n",
    "from sklearn.gaussian_process import GaussianProcessClassifier"
   ]
  },
  {
   "cell_type": "code",
   "execution_count": 2,
   "metadata": {},
   "outputs": [],
   "source": [
    "def labelencode_dataframe(dataframe_column, classlist, column_name):\n",
    "    le = LabelEncoder().fit(classlist)\n",
    "    df_new = pd.DataFrame(le.transform(dataframe_column), columns=[column_name])\n",
    "    return df_new"
   ]
  },
  {
   "cell_type": "code",
   "execution_count": 3,
   "metadata": {},
   "outputs": [],
   "source": [
    "data = pd.read_csv('psl_data.csv', header=0, delimiter=',')\n",
    "#Separating all features for encoding\n",
    "teams = list(set(sum([list(data[['team1']]), list(data['team2'])], [])))\n",
    "venues = list(set((data['venue'])))\n",
    "toss_decisions = list(set(data['toss_decision']))\n",
    "#encoding.\n",
    "team1_new = labelencode_dataframe(data['team1'], teams, 'team1')\n",
    "team2_new = labelencode_dataframe(data['team2'], teams, 'team2')\n",
    "toss_winner_new = labelencode_dataframe(data['toss_winner'], teams, 'toss_winner')\n",
    "winner_new = labelencode_dataframe(data['winner'], teams, 'winner')\n",
    "venue_new = labelencode_dataframe(data['venue'], venues, 'venue')\n",
    "toss_decision_new = labelencode_dataframe(data['toss_decision'], toss_decisions, 'toss_decision')\n",
    "#New Encoded Data\n",
    "data_new = pd.concat([team1_new, team2_new, venue_new, toss_winner_new, toss_decision_new, winner_new], axis=1)\n",
    "#Features\n",
    "X = data_new.iloc[:,0:5]\n",
    "#Labels\n",
    "Y = data_new.iloc[:, 5]"
   ]
  },
  {
   "cell_type": "code",
   "execution_count": 4,
   "metadata": {},
   "outputs": [
    {
     "name": "stdout",
     "output_type": "stream",
     "text": [
      "Cross Validation Logistic Regression:  0.34698717948717944 +/- 0.07054416552728389\n"
     ]
    },
    {
     "name": "stderr",
     "output_type": "stream",
     "text": [
      "C:\\Users\\ehsan\\Anaconda2\\lib\\site-packages\\sklearn\\model_selection\\_split.py:605: Warning: The least populated class in y has only 4 members, which is too few. The minimum number of members in any class cannot be less than n_splits=5.\n",
      "  % (min_groups, self.n_splits)), Warning)\n"
     ]
    }
   ],
   "source": [
    "cvs = cross_val_score(LogisticRegression(multi_class='multinomial', solver='lbfgs'), X, Y, cv=5)\n",
    "print \"Cross Validation Logistic Regression: \", cvs.mean(), '+/-', cvs.std()"
   ]
  },
  {
   "cell_type": "code",
   "execution_count": 5,
   "metadata": {},
   "outputs": [
    {
     "name": "stdout",
     "output_type": "stream",
     "text": [
      "Cross Validation RandomForest:  0.4943589743589743 +/- 0.07314681517994745\n"
     ]
    }
   ],
   "source": [
    "cvs = cross_val_score(RandomForestClassifier(max_depth=5, random_state=0), X, Y, cv=5)\n",
    "print \"Cross Validation RandomForest: \", cvs.mean(), '+/-', cvs.std()"
   ]
  },
  {
   "cell_type": "code",
   "execution_count": 6,
   "metadata": {},
   "outputs": [
    {
     "name": "stdout",
     "output_type": "stream",
     "text": [
      "Cross Validation BernoulliNB:  0.4068162393162392 +/- 0.052240351742768684\n"
     ]
    }
   ],
   "source": [
    "cvs = cross_val_score(BernoulliNB(), X, Y, cv=5)\n",
    "print \"Cross Validation BernoulliNB: \", cvs.mean(), '+/-', cvs.std()"
   ]
  },
  {
   "cell_type": "code",
   "execution_count": 7,
   "metadata": {},
   "outputs": [
    {
     "name": "stdout",
     "output_type": "stream",
     "text": [
      "Cross Validation DecisionTreeClassifier:  0.48446581196581195 +/- 0.11533180969580066\n"
     ]
    }
   ],
   "source": [
    "cvs = cross_val_score(DecisionTreeClassifier(), X, Y, cv=5)\n",
    "print \"Cross Validation DecisionTreeClassifier: \", cvs.mean(), '+/-', cvs.std()"
   ]
  },
  {
   "cell_type": "code",
   "execution_count": 8,
   "metadata": {},
   "outputs": [
    {
     "name": "stdout",
     "output_type": "stream",
     "text": [
      "Cross Validation ExtraTreeClassifier:  0.3688034188034188 +/- 0.10785498498699046\n"
     ]
    }
   ],
   "source": [
    "cvs = cross_val_score(ExtraTreeClassifier(), X, Y, cv=5)\n",
    "print \"Cross Validation ExtraTreeClassifier: \", cvs.mean(), '+/-', cvs.std()"
   ]
  },
  {
   "cell_type": "code",
   "execution_count": 9,
   "metadata": {},
   "outputs": [
    {
     "name": "stdout",
     "output_type": "stream",
     "text": [
      "Cross Validation ExtraTreesClassifier:  0.47963675213675205 +/- 0.11502324703812493\n"
     ]
    }
   ],
   "source": [
    "cvs = cross_val_score(ExtraTreesClassifier(), X, Y, cv=5)\n",
    "print \"Cross Validation ExtraTreesClassifier: \", cvs.mean(), '+/-', cvs.std()"
   ]
  },
  {
   "cell_type": "code",
   "execution_count": 10,
   "metadata": {},
   "outputs": [
    {
     "name": "stdout",
     "output_type": "stream",
     "text": [
      "Cross Validation KNeighborsClassifier:  0.41008547008547 +/- 0.10698506063768601\n"
     ]
    }
   ],
   "source": [
    "cvs = cross_val_score(KNeighborsClassifier(), X, Y, cv=5)\n",
    "print \"Cross Validation KNeighborsClassifier: \", cvs.mean(), '+/-', cvs.std()"
   ]
  },
  {
   "cell_type": "code",
   "execution_count": 11,
   "metadata": {},
   "outputs": [
    {
     "name": "stdout",
     "output_type": "stream",
     "text": [
      "Cross Validation LabelPropagation:  0.4700213675213675 +/- 0.0\n"
     ]
    }
   ],
   "source": [
    "cvs = cross_val_score(LabelPropagation(), X, Y, cv=5).mean()\n",
    "print \"Cross Validation LabelPropagation: \", cvs.mean(), '+/-', cvs.std()"
   ]
  },
  {
   "cell_type": "code",
   "execution_count": 12,
   "metadata": {},
   "outputs": [
    {
     "name": "stdout",
     "output_type": "stream",
     "text": [
      "Cross Validation LabelSpreading:  0.48196581196581195 +/- 0.1321165164014551\n"
     ]
    }
   ],
   "source": [
    "cvs = cross_val_score(LabelSpreading(), X, Y, cv=5)\n",
    "print \"Cross Validation LabelSpreading: \", cvs.mean(), '+/-', cvs.std()"
   ]
  },
  {
   "cell_type": "code",
   "execution_count": 13,
   "metadata": {},
   "outputs": [
    {
     "name": "stdout",
     "output_type": "stream",
     "text": [
      "Cross Validation LinearDiscriminantAnalysis:  0.3692094017094017 +/- 0.07965519647253737\n"
     ]
    }
   ],
   "source": [
    "cvs = cross_val_score(LinearDiscriminantAnalysis(), X, Y, cv=5)\n",
    "print \"Cross Validation LinearDiscriminantAnalysis: \", cvs.mean(), '+/-', cvs.std()"
   ]
  },
  {
   "cell_type": "code",
   "execution_count": 14,
   "metadata": {},
   "outputs": [
    {
     "name": "stdout",
     "output_type": "stream",
     "text": [
      "Cross Validation LinearSVC:  0.39737179487179486 +/- 0.0983510497863792\n"
     ]
    }
   ],
   "source": [
    "cvs = cross_val_score(LinearSVC(), X, Y, cv=5)\n",
    "print \"Cross Validation LinearSVC: \", cvs.mean(), '+/-', cvs.std()"
   ]
  },
  {
   "cell_type": "code",
   "execution_count": 15,
   "metadata": {},
   "outputs": [
    {
     "name": "stdout",
     "output_type": "stream",
     "text": [
      "Cross Validation LogisticCV Regression:  0.38542735042735043 +/- 0.06155988468507649\n"
     ]
    }
   ],
   "source": [
    "cvs = cross_val_score(LogisticRegressionCV(multi_class='multinomial', solver='lbfgs'), X, Y, cv=5)\n",
    "print \"Cross Validation LogisticCV Regression: \", cvs.mean(), '+/-', cvs.std()"
   ]
  },
  {
   "cell_type": "code",
   "execution_count": 16,
   "metadata": {},
   "outputs": [
    {
     "name": "stdout",
     "output_type": "stream",
     "text": [
      "Cross Validation ANN:  0.3745940170940171 +/- 0.15191307503109425\n"
     ]
    }
   ],
   "source": [
    "cvs = cross_val_score(MLPClassifier(solver='lbfgs',  hidden_layer_sizes=(6,10,12,6)), X, Y, cv=5)\n",
    "print \"Cross Validation ANN: \", cvs.mean(), '+/-', cvs.std()"
   ]
  },
  {
   "cell_type": "code",
   "execution_count": 17,
   "metadata": {},
   "outputs": [
    {
     "name": "stdout",
     "output_type": "stream",
     "text": [
      "Cross Validation NearestCentroid:  0.27226495726495725 +/- 0.0919246961119696\n"
     ]
    }
   ],
   "source": [
    "cvs = cross_val_score(NearestCentroid(), X, Y, cv=5)\n",
    "print \"Cross Validation NearestCentroid: \", cvs.mean(), '+/-', cvs.std()"
   ]
  },
  {
   "cell_type": "code",
   "execution_count": 18,
   "metadata": {},
   "outputs": [
    {
     "name": "stdout",
     "output_type": "stream",
     "text": [
      "Cross Validation QuadraticDiscriminantAnalysis:  0.2932051282051282 +/- 0.13523385264428212\n"
     ]
    },
    {
     "name": "stderr",
     "output_type": "stream",
     "text": [
      "C:\\Users\\ehsan\\Anaconda2\\lib\\site-packages\\sklearn\\discriminant_analysis.py:682: UserWarning: Variables are collinear\n",
      "  warnings.warn(\"Variables are collinear\")\n",
      "C:\\Users\\ehsan\\Anaconda2\\lib\\site-packages\\sklearn\\discriminant_analysis.py:706: RuntimeWarning: divide by zero encountered in power\n",
      "  X2 = np.dot(Xm, R * (S ** (-0.5)))\n",
      "C:\\Users\\ehsan\\Anaconda2\\lib\\site-packages\\sklearn\\discriminant_analysis.py:706: RuntimeWarning: invalid value encountered in multiply\n",
      "  X2 = np.dot(Xm, R * (S ** (-0.5)))\n",
      "C:\\Users\\ehsan\\Anaconda2\\lib\\site-packages\\sklearn\\discriminant_analysis.py:709: RuntimeWarning: divide by zero encountered in log\n",
      "  u = np.asarray([np.sum(np.log(s)) for s in self.scalings_])\n"
     ]
    }
   ],
   "source": [
    "cvs = cross_val_score(QuadraticDiscriminantAnalysis(), X, Y, cv=5)\n",
    "print \"Cross Validation QuadraticDiscriminantAnalysis: \", cvs.mean(), '+/-', cvs.std()"
   ]
  },
  {
   "cell_type": "code",
   "execution_count": 19,
   "metadata": {},
   "outputs": [
    {
     "name": "stdout",
     "output_type": "stream",
     "text": [
      "Cross Validation RadiusNeighborsClassifier:  0.38542735042735043 +/- 0.0505475172605475\n"
     ]
    }
   ],
   "source": [
    "cvs = cross_val_score(RadiusNeighborsClassifier(radius=3.7), X, Y, cv=5)\n",
    "print \"Cross Validation RadiusNeighborsClassifier: \", cvs.mean(), '+/-', cvs.std()"
   ]
  },
  {
   "cell_type": "code",
   "execution_count": 20,
   "metadata": {},
   "outputs": [
    {
     "name": "stdout",
     "output_type": "stream",
     "text": [
      "Cross Validation RidgeClassifier:  0.41209401709401716 +/- 0.10472262114580541\n"
     ]
    }
   ],
   "source": [
    "cvs = cross_val_score(RidgeClassifier(), X, Y, cv=5)\n",
    "print \"Cross Validation RidgeClassifier: \", cvs.mean(), '+/-', cvs.std()"
   ]
  },
  {
   "cell_type": "code",
   "execution_count": 21,
   "metadata": {},
   "outputs": [
    {
     "name": "stdout",
     "output_type": "stream",
     "text": [
      "Cross Validation RidgeClassifierCV:  0.42525641025641026 +/- 0.059243224600301014\n"
     ]
    }
   ],
   "source": [
    "cvs = cross_val_score(RidgeClassifierCV(), X, Y, cv=5)\n",
    "print \"Cross Validation RidgeClassifierCV: \", cvs.mean(), '+/-', cvs.std()"
   ]
  },
  {
   "cell_type": "code",
   "execution_count": 22,
   "metadata": {},
   "outputs": [
    {
     "name": "stdout",
     "output_type": "stream",
     "text": [
      "Cross Validation NuSVC:  0.5208547008547009 +/- 0.07390785646321124\n"
     ]
    }
   ],
   "source": [
    "cvs = cross_val_score(NuSVC(nu=0.31), X, Y, cv=5)\n",
    "print \"Cross Validation NuSVC: \", cvs.mean(), '+/-', cvs.std()"
   ]
  },
  {
   "cell_type": "code",
   "execution_count": 23,
   "metadata": {},
   "outputs": [
    {
     "name": "stdout",
     "output_type": "stream",
     "text": [
      "Cross Validation SVC:  0.47314102564102567 +/- 0.04257339084459247\n"
     ]
    }
   ],
   "source": [
    "cvs = cross_val_score(SVC(), X, Y, cv=5)\n",
    "print \"Cross Validation SVC: \", cvs.mean(), '+/-', cvs.std()"
   ]
  },
  {
   "cell_type": "code",
   "execution_count": 24,
   "metadata": {},
   "outputs": [
    {
     "name": "stdout",
     "output_type": "stream",
     "text": [
      "Cross Validation GaussianProcessClassifier:  0.4657478632478632 +/- 0.08362658242997921\n"
     ]
    }
   ],
   "source": [
    "cvs = cross_val_score(GaussianProcessClassifier(multi_class = 'one_vs_one'), X, Y, cv=5)\n",
    "print \"Cross Validation GaussianProcessClassifier: \", cvs.mean(), '+/-', cvs.std()"
   ]
  },
  {
   "cell_type": "code",
   "execution_count": 25,
   "metadata": {},
   "outputs": [
    {
     "name": "stdout",
     "output_type": "stream",
     "text": [
      "Cross Validation GradientBoostingClassifier:  0.5046367521367521 +/- 0.06121247048175202\n"
     ]
    }
   ],
   "source": [
    "cvs = cross_val_score(GradientBoostingClassifier(), X, Y, cv=5)\n",
    "print \"Cross Validation GradientBoostingClassifier: \", cvs.mean(), '+/-', cvs.std()"
   ]
  },
  {
   "cell_type": "code",
   "execution_count": 26,
   "metadata": {},
   "outputs": [
    {
     "name": "stdout",
     "output_type": "stream",
     "text": [
      "Cross Validation GaussianProcessClassifier:  0.4657478632478632 +/- 0.08362658242997921\n"
     ]
    }
   ],
   "source": [
    "cvs = cross_val_score(GaussianProcessClassifier(multi_class = 'one_vs_rest'), X, Y, cv=5)\n",
    "print \"Cross Validation GaussianProcessClassifier: \", cvs.mean(), '+/-', cvs.std()"
   ]
  },
  {
   "cell_type": "code",
   "execution_count": 27,
   "metadata": {},
   "outputs": [
    {
     "name": "stdout",
     "output_type": "stream",
     "text": [
      "Cross Validation LinearSVC:  0.3715384615384615 +/- 0.0957698314607187\n"
     ]
    }
   ],
   "source": [
    "cvs = cross_val_score(LinearSVC(multi_class='ovr'), X, Y, cv=5)\n",
    "print \"Cross Validation LinearSVC: \", cvs.mean(), '+/-', cvs.std()"
   ]
  },
  {
   "cell_type": "code",
   "execution_count": 28,
   "metadata": {},
   "outputs": [
    {
     "name": "stdout",
     "output_type": "stream",
     "text": [
      "Cross Validation LogisticCV Regression:  0.360982905982906 +/- 0.03493406121837463\n"
     ]
    }
   ],
   "source": [
    "cvs = cross_val_score(LogisticRegressionCV(multi_class='ovr'), X, Y, cv=5)\n",
    "print \"Cross Validation LogisticCV Regression: \", cvs.mean(), '+/-', cvs.std()"
   ]
  },
  {
   "cell_type": "code",
   "execution_count": 29,
   "metadata": {},
   "outputs": [
    {
     "name": "stdout",
     "output_type": "stream",
     "text": [
      "Cross Validation Logistic Regression:  0.33393162393162396 +/- 0.1006696839810616\n"
     ]
    }
   ],
   "source": [
    "cvs = cross_val_score(LogisticRegression(multi_class='ovr'), X, Y, cv=5)\n",
    "print \"Cross Validation Logistic Regression: \", cvs.mean(), '+/-', cvs.std()"
   ]
  },
  {
   "cell_type": "code",
   "execution_count": 30,
   "metadata": {},
   "outputs": [
    {
     "name": "stdout",
     "output_type": "stream",
     "text": [
      "Cross Validation SGDClassifier:  0.2932051282051282 +/- 0.12772190986295226\n"
     ]
    },
    {
     "name": "stderr",
     "output_type": "stream",
     "text": [
      "C:\\Users\\ehsan\\Anaconda2\\lib\\site-packages\\sklearn\\linear_model\\stochastic_gradient.py:128: FutureWarning: max_iter and tol parameters have been added in <class 'sklearn.linear_model.stochastic_gradient.SGDClassifier'> in 0.19. If both are left unset, they default to max_iter=5 and tol=None. If tol is not None, max_iter defaults to max_iter=1000. From 0.21, default max_iter will be 1000, and default tol will be 1e-3.\n",
      "  \"and default tol will be 1e-3.\" % type(self), FutureWarning)\n"
     ]
    }
   ],
   "source": [
    "cvs = cross_val_score(SGDClassifier(), X, Y, cv=5)\n",
    "print \"Cross Validation SGDClassifier: \", cvs.mean(), '+/-', cvs.std()"
   ]
  },
  {
   "cell_type": "code",
   "execution_count": 31,
   "metadata": {},
   "outputs": [
    {
     "name": "stdout",
     "output_type": "stream",
     "text": [
      "Cross Validation Perceptron:  0.26333333333333336 +/- 0.14434184390271093\n"
     ]
    },
    {
     "name": "stderr",
     "output_type": "stream",
     "text": [
      "C:\\Users\\ehsan\\Anaconda2\\lib\\site-packages\\sklearn\\linear_model\\stochastic_gradient.py:128: FutureWarning: max_iter and tol parameters have been added in <class 'sklearn.linear_model.perceptron.Perceptron'> in 0.19. If both are left unset, they default to max_iter=5 and tol=None. If tol is not None, max_iter defaults to max_iter=1000. From 0.21, default max_iter will be 1000, and default tol will be 1e-3.\n",
      "  \"and default tol will be 1e-3.\" % type(self), FutureWarning)\n"
     ]
    }
   ],
   "source": [
    "cvs = cross_val_score(Perceptron(), X, Y, cv=5)\n",
    "print \"Cross Validation Perceptron: \", cvs.mean(), '+/-', cvs.std()"
   ]
  },
  {
   "cell_type": "code",
   "execution_count": 32,
   "metadata": {},
   "outputs": [
    {
     "name": "stdout",
     "output_type": "stream",
     "text": [
      "Cross Validation PassiveAggressiveClassifier:  0.3161538461538461 +/- 0.0981940811889348\n"
     ]
    },
    {
     "name": "stderr",
     "output_type": "stream",
     "text": [
      "C:\\Users\\ehsan\\Anaconda2\\lib\\site-packages\\sklearn\\linear_model\\stochastic_gradient.py:128: FutureWarning: max_iter and tol parameters have been added in <class 'sklearn.linear_model.passive_aggressive.PassiveAggressiveClassifier'> in 0.19. If both are left unset, they default to max_iter=5 and tol=None. If tol is not None, max_iter defaults to max_iter=1000. From 0.21, default max_iter will be 1000, and default tol will be 1e-3.\n",
      "  \"and default tol will be 1e-3.\" % type(self), FutureWarning)\n"
     ]
    }
   ],
   "source": [
    "cvs = cross_val_score(PassiveAggressiveClassifier(), X, Y, cv=5)\n",
    "print \"Cross Validation PassiveAggressiveClassifier: \", cvs.mean(), '+/-', cvs.std()"
   ]
  },
  {
   "cell_type": "code",
   "execution_count": 33,
   "metadata": {},
   "outputs": [
    {
     "data": {
      "text/plain": [
       "array([2], dtype=int64)"
      ]
     },
     "execution_count": 33,
     "metadata": {},
     "output_type": "execute_result"
    }
   ],
   "source": [
    "LogisticRegression().fit(X,Y).predict([[5,0,0,5, 1]])"
   ]
  },
  {
   "cell_type": "code",
   "execution_count": null,
   "metadata": {},
   "outputs": [],
   "source": []
  }
 ],
 "metadata": {
  "kernelspec": {
   "display_name": "Python 2",
   "language": "python",
   "name": "python2"
  },
  "language_info": {
   "codemirror_mode": {
    "name": "ipython",
    "version": 2
   },
   "file_extension": ".py",
   "mimetype": "text/x-python",
   "name": "python",
   "nbconvert_exporter": "python",
   "pygments_lexer": "ipython2",
   "version": "2.7.14"
  }
 },
 "nbformat": 4,
 "nbformat_minor": 2
}
