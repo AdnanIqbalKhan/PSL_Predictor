{
 "cells": [
  {
   "cell_type": "code",
   "execution_count": 1,
   "metadata": {
    "collapsed": true
   },
   "outputs": [],
   "source": [
    "import numpy as np\n",
    "import pandas as pd\n",
    "from scipy.sparse import csgraph\n",
    "from sklearn.preprocessing import LabelEncoder\n",
    "from sklearn.model_selection import cross_val_score\n",
    "from sklearn.linear_model import LogisticRegression, LogisticRegressionCV, RidgeClassifier, RidgeClassifierCV,\\\n",
    "SGDClassifier, Perceptron, PassiveAggressiveClassifier\n",
    "from sklearn.ensemble import RandomForestClassifier, ExtraTreesClassifier, GradientBoostingClassifier\n",
    "from sklearn.naive_bayes import BernoulliNB\n",
    "from sklearn.tree import DecisionTreeClassifier, ExtraTreeClassifier\n",
    "from sklearn.neighbors import KNeighborsClassifier, NearestCentroid, RadiusNeighborsClassifier\n",
    "from sklearn.semi_supervised import LabelPropagation, LabelSpreading\n",
    "from sklearn.discriminant_analysis import LinearDiscriminantAnalysis, QuadraticDiscriminantAnalysis\n",
    "from sklearn.svm import LinearSVC, NuSVC, SVC\n",
    "from sklearn.neural_network import MLPClassifier\n",
    "from sklearn.gaussian_process import GaussianProcessClassifier"
   ]
  },
  {
   "cell_type": "code",
   "execution_count": 2,
   "metadata": {
    "collapsed": true
   },
   "outputs": [],
   "source": [
    "def labelencode_dataframe(dataframe_columns, classlist, column_names):\n",
    "    le = LabelEncoder().fit(classlist)\n",
    "    if len(dataframe_columns.shape) == 1:\n",
    "        df_new = pd.DataFrame(le.transform(dataframe_columns), columns=column_names)\n",
    "    else:\n",
    "        df_new = dataframe_columns.apply(le.transform)\n",
    "    return df_new"
   ]
  },
  {
   "cell_type": "code",
   "execution_count": 3,
   "metadata": {
    "collapsed": true
   },
   "outputs": [],
   "source": [
    "def dataframe_tolist(dataframe):\n",
    "    ret_list = []\n",
    "    headers = list(dataframe)\n",
    "    for header in headers:\n",
    "        ret_list.extend(list(set(dataframe[header])))\n",
    "    return list(set(ret_list))"
   ]
  },
  {
   "cell_type": "code",
   "execution_count": 4,
   "metadata": {
    "collapsed": true
   },
   "outputs": [],
   "source": [
    "data = pd.read_csv('psl_data2.csv', header=0, delimiter=',')\n",
    "#Separating all features for encoding\n",
    "teams = list(set(sum([list(data[['team1']]), list(data['team2'])], [])))\n",
    "venues = list(set((data['venue'])))\n",
    "toss_decisions = list(set(data['toss_decision']))\n",
    "players = dataframe_tolist(data.iloc[:,2:24])\n",
    "#encoding.\n",
    "team1_new = labelencode_dataframe(data['team1'], teams, ['team1'])\n",
    "team2_new = labelencode_dataframe(data['team2'], teams, ['team2'])\n",
    "toss_winner_new = labelencode_dataframe(data['toss_winner'], teams, ['toss_winner'])\n",
    "winner_new = labelencode_dataframe(data['winner'], teams, ['winner'])\n",
    "venue_new = labelencode_dataframe(data['venue'], venues, ['venue'])\n",
    "toss_decision_new = labelencode_dataframe(data['toss_decision'], toss_decisions, ['toss_decision'])\n",
    "players_new = labelencode_dataframe(data.iloc[:,2:24], players, list(data.iloc[:,2:24].columns))\n",
    "#New Encoded Data\n",
    "data_new = pd.concat([team1_new, team2_new, players_new, venue_new, toss_winner_new, toss_decision_new, winner_new], axis=1)\n",
    "#Features\n",
    "X = data_new.iloc[:,0:27]\n",
    "#Labels\n",
    "Y = pd.DataFrame(np.where(data['team1']==data['winner'], 1, 0))"
   ]
  },
  {
   "cell_type": "code",
   "execution_count": 5,
   "metadata": {},
   "outputs": [
    {
     "name": "stdout",
     "output_type": "stream",
     "text": [
      "Cross Validation Logistic Regression:  0.5015196078431372 +/- 0.07538737586513299\n"
     ]
    },
    {
     "name": "stderr",
     "output_type": "stream",
     "text": [
      "C:\\Users\\ehsan\\Anaconda2\\lib\\site-packages\\sklearn\\utils\\validation.py:578: DataConversionWarning: A column-vector y was passed when a 1d array was expected. Please change the shape of y to (n_samples, ), for example using ravel().\n",
      "  y = column_or_1d(y, warn=True)\n"
     ]
    }
   ],
   "source": [
    "cvs = cross_val_score(LogisticRegression(), X, Y, cv=5)\n",
    "print \"Cross Validation Logistic Regression: \", cvs.mean(), '+/-', cvs.std()"
   ]
  },
  {
   "cell_type": "code",
   "execution_count": 6,
   "metadata": {},
   "outputs": [
    {
     "name": "stderr",
     "output_type": "stream",
     "text": [
      "C:\\Users\\ehsan\\Anaconda2\\lib\\site-packages\\sklearn\\model_selection\\_validation.py:458: DataConversionWarning: A column-vector y was passed when a 1d array was expected. Please change the shape of y to (n_samples,), for example using ravel().\n",
      "  estimator.fit(X_train, y_train, **fit_params)\n"
     ]
    },
    {
     "name": "stdout",
     "output_type": "stream",
     "text": [
      "Cross Validation RandomForest:  0.4999509803921569 +/- 0.05233526726714126\n"
     ]
    }
   ],
   "source": [
    "cvs = cross_val_score(RandomForestClassifier(max_depth=5, random_state=0), X, Y, cv=5)\n",
    "print \"Cross Validation RandomForest: \", cvs.mean(), '+/-', cvs.std()"
   ]
  },
  {
   "cell_type": "code",
   "execution_count": 7,
   "metadata": {},
   "outputs": [
    {
     "name": "stdout",
     "output_type": "stream",
     "text": [
      "Cross Validation BernoulliNB:  0.5789215686274509 +/- 0.1782616085322609\n"
     ]
    }
   ],
   "source": [
    "cvs = cross_val_score(BernoulliNB(), X, Y, cv=5)\n",
    "print \"Cross Validation BernoulliNB: \", cvs.mean(), '+/-', cvs.std()"
   ]
  },
  {
   "cell_type": "code",
   "execution_count": 8,
   "metadata": {},
   "outputs": [
    {
     "name": "stdout",
     "output_type": "stream",
     "text": [
      "Cross Validation DecisionTreeClassifier:  0.49838235294117644 +/- 0.1304382750522864\n"
     ]
    }
   ],
   "source": [
    "cvs = cross_val_score(DecisionTreeClassifier(), X, Y, cv=5)\n",
    "print \"Cross Validation DecisionTreeClassifier: \", cvs.mean(), '+/-', cvs.std()"
   ]
  },
  {
   "cell_type": "code",
   "execution_count": 9,
   "metadata": {},
   "outputs": [
    {
     "name": "stdout",
     "output_type": "stream",
     "text": [
      "Cross Validation ExtraTreeClassifier:  0.5093137254901962 +/- 0.10822847822386844\n"
     ]
    }
   ],
   "source": [
    "cvs = cross_val_score(ExtraTreeClassifier(), X, Y, cv=5)\n",
    "print \"Cross Validation ExtraTreeClassifier: \", cvs.mean(), '+/-', cvs.std()"
   ]
  },
  {
   "cell_type": "code",
   "execution_count": 10,
   "metadata": {},
   "outputs": [
    {
     "name": "stdout",
     "output_type": "stream",
     "text": [
      "Cross Validation ExtraTreesClassifier:  0.5516176470588235 +/- 0.09001321510052601\n"
     ]
    }
   ],
   "source": [
    "cvs = cross_val_score(ExtraTreesClassifier(), X, Y, cv=5)\n",
    "print \"Cross Validation ExtraTreesClassifier: \", cvs.mean(), '+/-', cvs.std()"
   ]
  },
  {
   "cell_type": "code",
   "execution_count": 11,
   "metadata": {},
   "outputs": [
    {
     "name": "stdout",
     "output_type": "stream",
     "text": [
      "Cross Validation KNeighborsClassifier:  0.5540196078431372 +/- 0.11922820254859202\n"
     ]
    },
    {
     "name": "stderr",
     "output_type": "stream",
     "text": [
      "C:\\Users\\ehsan\\Anaconda2\\lib\\site-packages\\sklearn\\model_selection\\_validation.py:458: DataConversionWarning: A column-vector y was passed when a 1d array was expected. Please change the shape of y to (n_samples, ), for example using ravel().\n",
      "  estimator.fit(X_train, y_train, **fit_params)\n"
     ]
    }
   ],
   "source": [
    "cvs = cross_val_score(KNeighborsClassifier(), X, Y, cv=5)\n",
    "print \"Cross Validation KNeighborsClassifier: \", cvs.mean(), '+/-', cvs.std()"
   ]
  },
  {
   "cell_type": "code",
   "execution_count": 12,
   "metadata": {},
   "outputs": [
    {
     "name": "stdout",
     "output_type": "stream",
     "text": [
      "Cross Validation LabelPropagation:  0.5500490196078431 +/- 0.0\n"
     ]
    },
    {
     "name": "stderr",
     "output_type": "stream",
     "text": [
      "C:\\Users\\ehsan\\Anaconda2\\lib\\site-packages\\sklearn\\semi_supervised\\label_propagation.py:201: RuntimeWarning: invalid value encountered in divide\n",
      "  probabilities /= normalizer\n"
     ]
    }
   ],
   "source": [
    "cvs = cross_val_score(LabelPropagation(), X, Y, cv=5).mean()\n",
    "print \"Cross Validation LabelPropagation: \", cvs.mean(), '+/-', cvs.std()"
   ]
  },
  {
   "cell_type": "code",
   "execution_count": 13,
   "metadata": {},
   "outputs": [
    {
     "name": "stdout",
     "output_type": "stream",
     "text": [
      "Cross Validation LabelSpreading:  0.5500490196078431 +/- 0.015299615653302954\n"
     ]
    }
   ],
   "source": [
    "cvs = cross_val_score(LabelSpreading(), X, Y, cv=5)\n",
    "print \"Cross Validation LabelSpreading: \", cvs.mean(), '+/-', cvs.std()"
   ]
  },
  {
   "cell_type": "code",
   "execution_count": 14,
   "metadata": {},
   "outputs": [
    {
     "name": "stdout",
     "output_type": "stream",
     "text": [
      "Cross Validation LinearDiscriminantAnalysis:  0.5141176470588236 +/- 0.09068463167563359\n"
     ]
    }
   ],
   "source": [
    "cvs = cross_val_score(LinearDiscriminantAnalysis(), X, Y, cv=5)\n",
    "print \"Cross Validation LinearDiscriminantAnalysis: \", cvs.mean(), '+/-', cvs.std()"
   ]
  },
  {
   "cell_type": "code",
   "execution_count": 15,
   "metadata": {},
   "outputs": [
    {
     "name": "stdout",
     "output_type": "stream",
     "text": [
      "Cross Validation LinearSVC:  0.5266176470588235 +/- 0.09217245383342433\n"
     ]
    }
   ],
   "source": [
    "cvs = cross_val_score(LinearSVC(), X, Y, cv=5)\n",
    "print \"Cross Validation LinearSVC: \", cvs.mean(), '+/-', cvs.std()"
   ]
  },
  {
   "cell_type": "code",
   "execution_count": 16,
   "metadata": {},
   "outputs": [
    {
     "name": "stdout",
     "output_type": "stream",
     "text": [
      "Cross Validation LogisticCV Regression:  0.5147549019607843 +/- 0.09075254600241692\n"
     ]
    }
   ],
   "source": [
    "cvs = cross_val_score(LogisticRegressionCV(), X, Y, cv=5)\n",
    "print \"Cross Validation LogisticCV Regression: \", cvs.mean(), '+/-', cvs.std()"
   ]
  },
  {
   "cell_type": "code",
   "execution_count": 35,
   "metadata": {},
   "outputs": [
    {
     "name": "stdout",
     "output_type": "stream",
     "text": [
      "Cross Validation ANN:  0.513921568627451 +/- 0.09508507593068602\n"
     ]
    }
   ],
   "source": [
    "cvs = cross_val_score(MLPClassifier(solver='lbfgs'), X, Y, cv=5)\n",
    "print \"Cross Validation ANN: \", cvs.mean(), '+/-', cvs.std()"
   ]
  },
  {
   "cell_type": "code",
   "execution_count": 18,
   "metadata": {},
   "outputs": [
    {
     "name": "stdout",
     "output_type": "stream",
     "text": [
      "Cross Validation NearestCentroid:  0.5874509803921569 +/- 0.11428061354094865\n"
     ]
    }
   ],
   "source": [
    "cvs = cross_val_score(NearestCentroid(), X, Y, cv=5)\n",
    "print \"Cross Validation NearestCentroid: \", cvs.mean(), '+/-', cvs.std()"
   ]
  },
  {
   "cell_type": "code",
   "execution_count": 19,
   "metadata": {},
   "outputs": [
    {
     "name": "stdout",
     "output_type": "stream",
     "text": [
      "Cross Validation QuadraticDiscriminantAnalysis:  0.5249509803921569 +/- 0.04600468650382549\n"
     ]
    }
   ],
   "source": [
    "cvs = cross_val_score(QuadraticDiscriminantAnalysis(), X, Y, cv=5)\n",
    "print \"Cross Validation QuadraticDiscriminantAnalysis: \", cvs.mean(), '+/-', cvs.std()"
   ]
  },
  {
   "cell_type": "code",
   "execution_count": 20,
   "metadata": {},
   "outputs": [
    {
     "name": "stdout",
     "output_type": "stream",
     "text": [
      "Cross Validation RadiusNeighborsClassifier:  0.591421568627451 +/- 0.12167235454622698\n"
     ]
    }
   ],
   "source": [
    "cvs = cross_val_score(RadiusNeighborsClassifier(radius=290), X, Y, cv=5)\n",
    "print \"Cross Validation RadiusNeighborsClassifier: \", cvs.mean(), '+/-', cvs.std()"
   ]
  },
  {
   "cell_type": "code",
   "execution_count": 21,
   "metadata": {},
   "outputs": [
    {
     "name": "stdout",
     "output_type": "stream",
     "text": [
      "Cross Validation RidgeClassifier:  0.5141176470588236 +/- 0.09068463167563359\n"
     ]
    },
    {
     "name": "stderr",
     "output_type": "stream",
     "text": [
      "C:\\Users\\ehsan\\Anaconda2\\lib\\site-packages\\sklearn\\linear_model\\ridge.py:810: DataConversionWarning: A column-vector y was passed when a 1d array was expected. Please change the shape of y to (n_samples, ), for example using ravel().\n",
      "  y = column_or_1d(y, warn=True)\n"
     ]
    }
   ],
   "source": [
    "cvs = cross_val_score(RidgeClassifier(), X, Y, cv=5)\n",
    "print \"Cross Validation RidgeClassifier: \", cvs.mean(), '+/-', cvs.std()"
   ]
  },
  {
   "cell_type": "code",
   "execution_count": 22,
   "metadata": {},
   "outputs": [
    {
     "name": "stderr",
     "output_type": "stream",
     "text": [
      "C:\\Users\\ehsan\\Anaconda2\\lib\\site-packages\\sklearn\\linear_model\\ridge.py:1354: DataConversionWarning: A column-vector y was passed when a 1d array was expected. Please change the shape of y to (n_samples, ), for example using ravel().\n",
      "  y = column_or_1d(y, warn=True)\n"
     ]
    },
    {
     "name": "stdout",
     "output_type": "stream",
     "text": [
      "Cross Validation RidgeClassifierCV:  0.5508823529411765 +/- 0.08600288681080645\n"
     ]
    }
   ],
   "source": [
    "cvs = cross_val_score(RidgeClassifierCV(), X, Y, cv=5)\n",
    "print \"Cross Validation RidgeClassifierCV: \", cvs.mean(), '+/-', cvs.std()"
   ]
  },
  {
   "cell_type": "code",
   "execution_count": 23,
   "metadata": {},
   "outputs": [
    {
     "name": "stdout",
     "output_type": "stream",
     "text": [
      "Cross Validation NuSVC:  0.5500490196078431 +/- 0.015299615653302954\n"
     ]
    }
   ],
   "source": [
    "cvs = cross_val_score(NuSVC(nu=0.31), X, Y, cv=5)\n",
    "print \"Cross Validation NuSVC: \", cvs.mean(), '+/-', cvs.std()"
   ]
  },
  {
   "cell_type": "code",
   "execution_count": 24,
   "metadata": {},
   "outputs": [
    {
     "name": "stdout",
     "output_type": "stream",
     "text": [
      "Cross Validation SVC:  0.5500490196078431 +/- 0.015299615653302954\n"
     ]
    }
   ],
   "source": [
    "cvs = cross_val_score(SVC(), X, Y, cv=5)\n",
    "print \"Cross Validation SVC: \", cvs.mean(), '+/-', cvs.std()"
   ]
  },
  {
   "cell_type": "code",
   "execution_count": 25,
   "metadata": {},
   "outputs": [
    {
     "name": "stdout",
     "output_type": "stream",
     "text": [
      "Cross Validation GaussianProcessClassifier:  0.5500490196078431 +/- 0.015299615653302954\n"
     ]
    }
   ],
   "source": [
    "cvs = cross_val_score(GaussianProcessClassifier(), X, Y, cv=5)\n",
    "print \"Cross Validation GaussianProcessClassifier: \", cvs.mean(), '+/-', cvs.std()"
   ]
  },
  {
   "cell_type": "code",
   "execution_count": 26,
   "metadata": {},
   "outputs": [
    {
     "name": "stdout",
     "output_type": "stream",
     "text": [
      "Cross Validation GradientBoostingClassifier:  0.48911764705882355 +/- 0.08211019897117838\n"
     ]
    }
   ],
   "source": [
    "cvs = cross_val_score(GradientBoostingClassifier(), X, Y, cv=5)\n",
    "print \"Cross Validation GradientBoostingClassifier: \", cvs.mean(), '+/-', cvs.std()"
   ]
  },
  {
   "cell_type": "code",
   "execution_count": 27,
   "metadata": {},
   "outputs": [
    {
     "name": "stdout",
     "output_type": "stream",
     "text": [
      "Cross Validation SGDClassifier:  0.5507843137254902 +/- 0.07502456985732106\n"
     ]
    },
    {
     "name": "stderr",
     "output_type": "stream",
     "text": [
      "C:\\Users\\ehsan\\Anaconda2\\lib\\site-packages\\sklearn\\linear_model\\stochastic_gradient.py:128: FutureWarning: max_iter and tol parameters have been added in <class 'sklearn.linear_model.stochastic_gradient.SGDClassifier'> in 0.19. If both are left unset, they default to max_iter=5 and tol=None. If tol is not None, max_iter defaults to max_iter=1000. From 0.21, default max_iter will be 1000, and default tol will be 1e-3.\n",
      "  \"and default tol will be 1e-3.\" % type(self), FutureWarning)\n"
     ]
    }
   ],
   "source": [
    "cvs = cross_val_score(SGDClassifier(), X, Y, cv=5)\n",
    "print \"Cross Validation SGDClassifier: \", cvs.mean(), '+/-', cvs.std()"
   ]
  },
  {
   "cell_type": "code",
   "execution_count": 28,
   "metadata": {},
   "outputs": [
    {
     "name": "stdout",
     "output_type": "stream",
     "text": [
      "Cross Validation Perceptron:  0.5624509803921569 +/- 0.08621257246424965\n"
     ]
    },
    {
     "name": "stderr",
     "output_type": "stream",
     "text": [
      "C:\\Users\\ehsan\\Anaconda2\\lib\\site-packages\\sklearn\\linear_model\\stochastic_gradient.py:128: FutureWarning: max_iter and tol parameters have been added in <class 'sklearn.linear_model.perceptron.Perceptron'> in 0.19. If both are left unset, they default to max_iter=5 and tol=None. If tol is not None, max_iter defaults to max_iter=1000. From 0.21, default max_iter will be 1000, and default tol will be 1e-3.\n",
      "  \"and default tol will be 1e-3.\" % type(self), FutureWarning)\n"
     ]
    }
   ],
   "source": [
    "cvs = cross_val_score(Perceptron(), X, Y, cv=5)\n",
    "print \"Cross Validation Perceptron: \", cvs.mean(), '+/-', cvs.std()"
   ]
  },
  {
   "cell_type": "code",
   "execution_count": 29,
   "metadata": {},
   "outputs": [
    {
     "name": "stdout",
     "output_type": "stream",
     "text": [
      "Cross Validation PassiveAggressiveClassifier:  0.4654901960784314 +/- 0.09524339507827374\n"
     ]
    },
    {
     "name": "stderr",
     "output_type": "stream",
     "text": [
      "C:\\Users\\ehsan\\Anaconda2\\lib\\site-packages\\sklearn\\linear_model\\stochastic_gradient.py:128: FutureWarning: max_iter and tol parameters have been added in <class 'sklearn.linear_model.passive_aggressive.PassiveAggressiveClassifier'> in 0.19. If both are left unset, they default to max_iter=5 and tol=None. If tol is not None, max_iter defaults to max_iter=1000. From 0.21, default max_iter will be 1000, and default tol will be 1e-3.\n",
      "  \"and default tol will be 1e-3.\" % type(self), FutureWarning)\n"
     ]
    }
   ],
   "source": [
    "cvs = cross_val_score(PassiveAggressiveClassifier(), X, Y, cv=5)\n",
    "print \"Cross Validation PassiveAggressiveClassifier: \", cvs.mean(), '+/-', cvs.std()"
   ]
  },
  {
   "cell_type": "code",
   "execution_count": null,
   "metadata": {
    "collapsed": true
   },
   "outputs": [],
   "source": []
  }
 ],
 "metadata": {
  "kernelspec": {
   "display_name": "Python 2",
   "language": "python",
   "name": "python2"
  },
  "language_info": {
   "codemirror_mode": {
    "name": "ipython",
    "version": 2
   },
   "file_extension": ".py",
   "mimetype": "text/x-python",
   "name": "python",
   "nbconvert_exporter": "python",
   "pygments_lexer": "ipython2",
   "version": "2.7.13"
  }
 },
 "nbformat": 4,
 "nbformat_minor": 2
}
