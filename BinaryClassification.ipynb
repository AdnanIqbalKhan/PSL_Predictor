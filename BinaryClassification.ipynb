{
 "cells": [
  {
   "cell_type": "code",
   "execution_count": 30,
   "metadata": {},
   "outputs": [],
   "source": [
    "import numpy as np\n",
    "import pandas as pd\n",
    "from scipy.sparse import csgraph\n",
    "from sklearn.preprocessing import LabelEncoder\n",
    "from sklearn.model_selection import cross_val_score\n",
    "from sklearn.linear_model import LogisticRegression, LogisticRegressionCV, RidgeClassifier, RidgeClassifierCV,\\\n",
    "SGDClassifier, Perceptron, PassiveAggressiveClassifier\n",
    "from sklearn.ensemble import RandomForestClassifier, ExtraTreesClassifier, GradientBoostingClassifier\n",
    "from sklearn.naive_bayes import BernoulliNB\n",
    "from sklearn.tree import DecisionTreeClassifier, ExtraTreeClassifier\n",
    "from sklearn.neighbors import KNeighborsClassifier, NearestCentroid, RadiusNeighborsClassifier\n",
    "from sklearn.semi_supervised import LabelPropagation, LabelSpreading\n",
    "from sklearn.discriminant_analysis import LinearDiscriminantAnalysis, QuadraticDiscriminantAnalysis\n",
    "from sklearn.svm import LinearSVC, NuSVC, SVC\n",
    "from sklearn.neural_network import MLPClassifier\n",
    "from sklearn.gaussian_process import GaussianProcessClassifier"
   ]
  },
  {
   "cell_type": "code",
   "execution_count": 31,
   "metadata": {},
   "outputs": [],
   "source": [
    "def labelencode_dataframe(dataframe_column, classlist, column_name):\n",
    "    le = LabelEncoder().fit(classlist)\n",
    "    df_new = pd.DataFrame(le.transform(dataframe_column), columns=[column_name])\n",
    "    return df_new"
   ]
  },
  {
   "cell_type": "code",
   "execution_count": 32,
   "metadata": {},
   "outputs": [],
   "source": [
    "data = pd.read_csv('psl_data.csv', header=0, delimiter=',')\n",
    "#Separating all features for encoding\n",
    "teams = list(set(sum([list(data[['team1']]), list(data['team2'])], [])))\n",
    "venues = list(set((data['venue'])))\n",
    "toss_decisions = list(set(data['toss_decision']))\n",
    "#encoding.\n",
    "team1_new = labelencode_dataframe(data['team1'], teams, 'team1')\n",
    "team2_new = labelencode_dataframe(data['team2'], teams, 'team2')\n",
    "toss_winner_new = labelencode_dataframe(data['toss_winner'], teams, 'toss_winner')\n",
    "winner_new = labelencode_dataframe(data['winner'], teams, 'winner')\n",
    "venue_new = labelencode_dataframe(data['venue'], venues, 'venue')\n",
    "toss_decision_new = labelencode_dataframe(data['toss_decision'], toss_decisions, 'toss_decision')\n",
    "#New Encoded Data\n",
    "data_new = pd.concat([team1_new, team2_new, venue_new, toss_winner_new, toss_decision_new, winner_new], axis=1)\n",
    "#Features\n",
    "X = data_new.iloc[:,0:5]\n",
    "#Labels\n",
    "Y = pd.DataFrame(np.where(data['team1']==data['winner'], 1, 0))"
   ]
  },
  {
   "cell_type": "code",
   "execution_count": 33,
   "metadata": {},
   "outputs": [
    {
     "name": "stdout",
     "output_type": "stream",
     "text": [
      "Cross Validation Logistic Regression:  0.5797549019607844 +/- 0.13787513922997682\n"
     ]
    }
   ],
   "source": [
    "cvs = cross_val_score(LogisticRegression(), X, Y, cv=5)\n",
    "print \"Cross Validation Logistic Regression: \", cvs.mean(), '+/-', cvs.std()"
   ]
  },
  {
   "cell_type": "code",
   "execution_count": 34,
   "metadata": {},
   "outputs": [
    {
     "name": "stdout",
     "output_type": "stream",
     "text": [
      "Cross Validation RandomForest:  0.5915196078431373 +/- 0.11927444694792255\n"
     ]
    }
   ],
   "source": [
    "cvs = cross_val_score(RandomForestClassifier(max_depth=5, random_state=0), X, Y, cv=5)\n",
    "print \"Cross Validation RandomForest: \", cvs.mean(), '+/-', cvs.std()"
   ]
  },
  {
   "cell_type": "code",
   "execution_count": 35,
   "metadata": {},
   "outputs": [
    {
     "name": "stdout",
     "output_type": "stream",
     "text": [
      "Cross Validation BernoulliNB:  0.5687254901960784 +/- 0.2233092848867853\n"
     ]
    }
   ],
   "source": [
    "cvs = cross_val_score(BernoulliNB(), X, Y, cv=5)\n",
    "print \"Cross Validation BernoulliNB: \", cvs.mean(), '+/-', cvs.std()"
   ]
  },
  {
   "cell_type": "code",
   "execution_count": 36,
   "metadata": {},
   "outputs": [
    {
     "name": "stdout",
     "output_type": "stream",
     "text": [
      "Cross Validation DecisionTreeClassifier:  0.5141176470588236 +/- 0.05946597701329162\n"
     ]
    }
   ],
   "source": [
    "cvs = cross_val_score(DecisionTreeClassifier(), X, Y, cv=5)\n",
    "print \"Cross Validation DecisionTreeClassifier: \", cvs.mean(), '+/-', cvs.std()"
   ]
  },
  {
   "cell_type": "code",
   "execution_count": 37,
   "metadata": {},
   "outputs": [
    {
     "name": "stdout",
     "output_type": "stream",
     "text": [
      "Cross Validation ExtraTreeClassifier:  0.5423529411764706 +/- 0.13327911238940618\n"
     ]
    }
   ],
   "source": [
    "cvs = cross_val_score(ExtraTreeClassifier(), X, Y, cv=5)\n",
    "print \"Cross Validation ExtraTreeClassifier: \", cvs.mean(), '+/-', cvs.std()"
   ]
  },
  {
   "cell_type": "code",
   "execution_count": 38,
   "metadata": {},
   "outputs": [
    {
     "name": "stdout",
     "output_type": "stream",
     "text": [
      "Cross Validation ExtraTreesClassifier:  0.6157843137254903 +/- 0.0838504142185892\n"
     ]
    }
   ],
   "source": [
    "cvs = cross_val_score(ExtraTreesClassifier(), X, Y, cv=5)\n",
    "print \"Cross Validation ExtraTreesClassifier: \", cvs.mean(), '+/-', cvs.std()"
   ]
  },
  {
   "cell_type": "code",
   "execution_count": 39,
   "metadata": {},
   "outputs": [
    {
     "name": "stdout",
     "output_type": "stream",
     "text": [
      "Cross Validation KNeighborsClassifier:  0.5648529411764706 +/- 0.1483490459907538\n"
     ]
    }
   ],
   "source": [
    "cvs = cross_val_score(KNeighborsClassifier(), X, Y, cv=5)\n",
    "print \"Cross Validation KNeighborsClassifier: \", cvs.mean(), '+/-', cvs.std()"
   ]
  },
  {
   "cell_type": "code",
   "execution_count": 40,
   "metadata": {},
   "outputs": [
    {
     "name": "stdout",
     "output_type": "stream",
     "text": [
      "Cross Validation LabelPropagation:  0.5791176470588235 +/- 0.0\n"
     ]
    }
   ],
   "source": [
    "cvs = cross_val_score(LabelPropagation(), X, Y, cv=5).mean()\n",
    "print \"Cross Validation LabelPropagation: \", cvs.mean(), '+/-', cvs.std()"
   ]
  },
  {
   "cell_type": "code",
   "execution_count": 41,
   "metadata": {},
   "outputs": [
    {
     "name": "stdout",
     "output_type": "stream",
     "text": [
      "Cross Validation LabelSpreading:  0.5782843137254903 +/- 0.1349619038619445\n"
     ]
    }
   ],
   "source": [
    "cvs = cross_val_score(LabelSpreading(), X, Y, cv=5)\n",
    "print \"Cross Validation LabelSpreading: \", cvs.mean(), '+/-', cvs.std()"
   ]
  },
  {
   "cell_type": "code",
   "execution_count": 42,
   "metadata": {},
   "outputs": [
    {
     "name": "stdout",
     "output_type": "stream",
     "text": [
      "Cross Validation LinearDiscriminantAnalysis:  0.5280882352941176 +/- 0.16790640414717128\n"
     ]
    }
   ],
   "source": [
    "cvs = cross_val_score(LinearDiscriminantAnalysis(), X, Y, cv=5)\n",
    "print \"Cross Validation LinearDiscriminantAnalysis: \", cvs.mean(), '+/-', cvs.std()"
   ]
  },
  {
   "cell_type": "code",
   "execution_count": 43,
   "metadata": {},
   "outputs": [
    {
     "name": "stdout",
     "output_type": "stream",
     "text": [
      "Cross Validation LinearSVC:  0.5272549019607843 +/- 0.15018206303317713\n"
     ]
    }
   ],
   "source": [
    "cvs = cross_val_score(LinearSVC(), X, Y, cv=5)\n",
    "print \"Cross Validation LinearSVC: \", cvs.mean(), '+/-', cvs.std()"
   ]
  },
  {
   "cell_type": "code",
   "execution_count": 44,
   "metadata": {},
   "outputs": [
    {
     "name": "stdout",
     "output_type": "stream",
     "text": [
      "Cross Validation LogisticCV Regression:  0.4772549019607843 +/- 0.07478397056174287\n"
     ]
    }
   ],
   "source": [
    "cvs = cross_val_score(LogisticRegressionCV(), X, Y, cv=5)\n",
    "print \"Cross Validation LogisticCV Regression: \", cvs.mean(), '+/-', cvs.std()"
   ]
  },
  {
   "cell_type": "code",
   "execution_count": 45,
   "metadata": {},
   "outputs": [
    {
     "name": "stdout",
     "output_type": "stream",
     "text": [
      "Cross Validation ANN:  0.5141176470588236 +/- 0.113627472127762\n"
     ]
    }
   ],
   "source": [
    "cvs = cross_val_score(MLPClassifier(solver='lbfgs',  hidden_layer_sizes=(6,10,12,6)), X, Y, cv=5)\n",
    "print \"Cross Validation ANN: \", cvs.mean(), '+/-', cvs.std()"
   ]
  },
  {
   "cell_type": "code",
   "execution_count": 46,
   "metadata": {},
   "outputs": [
    {
     "name": "stdout",
     "output_type": "stream",
     "text": [
      "Cross Validation NearestCentroid:  0.5359803921568628 +/- 0.07191819677985627\n"
     ]
    }
   ],
   "source": [
    "cvs = cross_val_score(NearestCentroid(), X, Y, cv=5)\n",
    "print \"Cross Validation NearestCentroid: \", cvs.mean(), '+/-', cvs.std()"
   ]
  },
  {
   "cell_type": "code",
   "execution_count": 47,
   "metadata": {},
   "outputs": [
    {
     "name": "stdout",
     "output_type": "stream",
     "text": [
      "Cross Validation QuadraticDiscriminantAnalysis:  0.46392156862745104 +/- 0.08906923446111698\n"
     ]
    }
   ],
   "source": [
    "cvs = cross_val_score(QuadraticDiscriminantAnalysis(), X, Y, cv=5)\n",
    "print \"Cross Validation QuadraticDiscriminantAnalysis: \", cvs.mean(), '+/-', cvs.std()"
   ]
  },
  {
   "cell_type": "code",
   "execution_count": 48,
   "metadata": {},
   "outputs": [
    {
     "name": "stdout",
     "output_type": "stream",
     "text": [
      "Cross Validation RadiusNeighborsClassifier:  0.47568627450980394 +/- 0.08624475868489138\n"
     ]
    }
   ],
   "source": [
    "cvs = cross_val_score(RadiusNeighborsClassifier(radius=3.7), X, Y, cv=5)\n",
    "print \"Cross Validation RadiusNeighborsClassifier: \", cvs.mean(), '+/-', cvs.std()"
   ]
  },
  {
   "cell_type": "code",
   "execution_count": 49,
   "metadata": {},
   "outputs": [
    {
     "name": "stdout",
     "output_type": "stream",
     "text": [
      "Cross Validation RidgeClassifier:  0.5155882352941177 +/- 0.14733386045300706\n"
     ]
    }
   ],
   "source": [
    "cvs = cross_val_score(RidgeClassifier(), X, Y, cv=5)\n",
    "print \"Cross Validation RidgeClassifier: \", cvs.mean(), '+/-', cvs.std()"
   ]
  },
  {
   "cell_type": "code",
   "execution_count": 50,
   "metadata": {},
   "outputs": [
    {
     "name": "stdout",
     "output_type": "stream",
     "text": [
      "Cross Validation RidgeClassifierCV:  0.5405882352941177 +/- 0.1310643150185445\n"
     ]
    }
   ],
   "source": [
    "cvs = cross_val_score(RidgeClassifierCV(), X, Y, cv=5)\n",
    "print \"Cross Validation RidgeClassifierCV: \", cvs.mean(), '+/-', cvs.std()"
   ]
  },
  {
   "cell_type": "code",
   "execution_count": 51,
   "metadata": {},
   "outputs": [
    {
     "name": "stdout",
     "output_type": "stream",
     "text": [
      "Cross Validation NuSVC:  0.605686274509804 +/- 0.1679699190174622\n"
     ]
    }
   ],
   "source": [
    "cvs = cross_val_score(NuSVC(nu=0.31), X, Y, cv=5)\n",
    "print \"Cross Validation NuSVC: \", cvs.mean(), '+/-', cvs.std()"
   ]
  },
  {
   "cell_type": "code",
   "execution_count": 52,
   "metadata": {},
   "outputs": [
    {
     "name": "stdout",
     "output_type": "stream",
     "text": [
      "Cross Validation SVC:  0.5907843137254902 +/- 0.11729282864226397\n"
     ]
    }
   ],
   "source": [
    "cvs = cross_val_score(SVC(), X, Y, cv=5)\n",
    "print \"Cross Validation SVC: \", cvs.mean(), '+/-', cvs.std()"
   ]
  },
  {
   "cell_type": "code",
   "execution_count": 53,
   "metadata": {},
   "outputs": [
    {
     "name": "stdout",
     "output_type": "stream",
     "text": [
      "Cross Validation GaussianProcessClassifier:  0.5791176470588235 +/- 0.12884451212410358\n"
     ]
    }
   ],
   "source": [
    "cvs = cross_val_score(GaussianProcessClassifier(), X, Y, cv=5)\n",
    "print \"Cross Validation GaussianProcessClassifier: \", cvs.mean(), '+/-', cvs.std()"
   ]
  },
  {
   "cell_type": "code",
   "execution_count": 54,
   "metadata": {},
   "outputs": [
    {
     "name": "stdout",
     "output_type": "stream",
     "text": [
      "Cross Validation GradientBoostingClassifier:  0.568921568627451 +/- 0.16741106827922517\n"
     ]
    }
   ],
   "source": [
    "cvs = cross_val_score(GradientBoostingClassifier(), X, Y, cv=5)\n",
    "print \"Cross Validation GradientBoostingClassifier: \", cvs.mean(), '+/-', cvs.std()"
   ]
  },
  {
   "cell_type": "code",
   "execution_count": 55,
   "metadata": {},
   "outputs": [
    {
     "name": "stdout",
     "output_type": "stream",
     "text": [
      "Cross Validation SGDClassifier:  0.5170588235294118 +/- 0.14286475202177132\n"
     ]
    }
   ],
   "source": [
    "cvs = cross_val_score(SGDClassifier(), X, Y, cv=5)\n",
    "print \"Cross Validation SGDClassifier: \", cvs.mean(), '+/-', cvs.std()"
   ]
  },
  {
   "cell_type": "code",
   "execution_count": 56,
   "metadata": {},
   "outputs": [
    {
     "name": "stdout",
     "output_type": "stream",
     "text": [
      "Cross Validation Perceptron:  0.47558823529411764 +/- 0.08539218500258422\n"
     ]
    }
   ],
   "source": [
    "cvs = cross_val_score(Perceptron(), X, Y, cv=5)\n",
    "print \"Cross Validation Perceptron: \", cvs.mean(), '+/-', cvs.std()"
   ]
  },
  {
   "cell_type": "code",
   "execution_count": 57,
   "metadata": {},
   "outputs": [
    {
     "name": "stdout",
     "output_type": "stream",
     "text": [
      "Cross Validation PassiveAggressiveClassifier:  0.4655882352941177 +/- 0.09913924533401453\n"
     ]
    }
   ],
   "source": [
    "cvs = cross_val_score(PassiveAggressiveClassifier(), X, Y, cv=5)\n",
    "print \"Cross Validation PassiveAggressiveClassifier: \", cvs.mean(), '+/-', cvs.std()"
   ]
  },
  {
   "cell_type": "code",
   "execution_count": 58,
   "metadata": {},
   "outputs": [
    {
     "data": {
      "text/plain": [
       "array([1])"
      ]
     },
     "execution_count": 58,
     "metadata": {},
     "output_type": "execute_result"
    }
   ],
   "source": [
    "LogisticRegression().fit(X,Y).predict([[1,0,0,1, 1]])"
   ]
  },
  {
   "cell_type": "code",
   "execution_count": null,
   "metadata": {},
   "outputs": [],
   "source": []
  }
 ],
 "metadata": {
  "kernelspec": {
   "display_name": "Python 2",
   "language": "python",
   "name": "python2"
  },
  "language_info": {
   "codemirror_mode": {
    "name": "ipython",
    "version": 2
   },
   "file_extension": ".py",
   "mimetype": "text/x-python",
   "name": "python",
   "nbconvert_exporter": "python",
   "pygments_lexer": "ipython2",
   "version": "2.7.14"
  }
 },
 "nbformat": 4,
 "nbformat_minor": 2
}
